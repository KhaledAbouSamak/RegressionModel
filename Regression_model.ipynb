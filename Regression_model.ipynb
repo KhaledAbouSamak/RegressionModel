{
  "nbformat": 4,
  "nbformat_minor": 0,
  "metadata": {
    "colab": {
      "name": "Regression_model.ipynb",
      "provenance": []
    },
    "kernelspec": {
      "name": "python3",
      "display_name": "Python 3"
    },
    "language_info": {
      "name": "python"
    }
  },
  "cells": [
    {
      "cell_type": "markdown",
      "metadata": {
        "id": "fyAhp4zU-jR7"
      },
      "source": [
        "Build a Regression Model in Keras"
      ]
    },
    {
      "cell_type": "code",
      "metadata": {
        "id": "y5i6M-kP-z_k"
      },
      "source": [
        "import pandas as pd\n",
        "import numpy as np\n",
        "\n",
        "from tensorflow.keras.models import Sequential\n",
        "from tensorflow.keras.layers import Dense, Conv2D, MaxPooling2D\n",
        "from sklearn.model_selection import  train_test_split\n",
        "from sklearn.metrics import mean_squared_error\n"
      ],
      "execution_count": 53,
      "outputs": []
    },
    {
      "cell_type": "markdown",
      "metadata": {
        "id": "-qR2kvBR_7Ch"
      },
      "source": [
        "Read Data"
      ]
    },
    {
      "cell_type": "code",
      "metadata": {
        "colab": {
          "base_uri": "https://localhost:8080/",
          "height": 206
        },
        "id": "HVMB26Ef_-AM",
        "outputId": "1b896b00-da69-4dd4-b46f-bf953aff9f66"
      },
      "source": [
        "# read data into pandas dataframe\n",
        "df = pd.read_csv('concrete_data.csv')\n",
        "df.head()"
      ],
      "execution_count": 54,
      "outputs": [
        {
          "output_type": "execute_result",
          "data": {
            "text/html": [
              "<div>\n",
              "<style scoped>\n",
              "    .dataframe tbody tr th:only-of-type {\n",
              "        vertical-align: middle;\n",
              "    }\n",
              "\n",
              "    .dataframe tbody tr th {\n",
              "        vertical-align: top;\n",
              "    }\n",
              "\n",
              "    .dataframe thead th {\n",
              "        text-align: right;\n",
              "    }\n",
              "</style>\n",
              "<table border=\"1\" class=\"dataframe\">\n",
              "  <thead>\n",
              "    <tr style=\"text-align: right;\">\n",
              "      <th></th>\n",
              "      <th>Cement</th>\n",
              "      <th>Blast Furnace Slag</th>\n",
              "      <th>Fly Ash</th>\n",
              "      <th>Water</th>\n",
              "      <th>Superplasticizer</th>\n",
              "      <th>Coarse Aggregate</th>\n",
              "      <th>Fine Aggregate</th>\n",
              "      <th>Age</th>\n",
              "      <th>Strength</th>\n",
              "    </tr>\n",
              "  </thead>\n",
              "  <tbody>\n",
              "    <tr>\n",
              "      <th>0</th>\n",
              "      <td>540.0</td>\n",
              "      <td>0.0</td>\n",
              "      <td>0.0</td>\n",
              "      <td>162.0</td>\n",
              "      <td>2.5</td>\n",
              "      <td>1040.0</td>\n",
              "      <td>676.0</td>\n",
              "      <td>28</td>\n",
              "      <td>79.99</td>\n",
              "    </tr>\n",
              "    <tr>\n",
              "      <th>1</th>\n",
              "      <td>540.0</td>\n",
              "      <td>0.0</td>\n",
              "      <td>0.0</td>\n",
              "      <td>162.0</td>\n",
              "      <td>2.5</td>\n",
              "      <td>1055.0</td>\n",
              "      <td>676.0</td>\n",
              "      <td>28</td>\n",
              "      <td>61.89</td>\n",
              "    </tr>\n",
              "    <tr>\n",
              "      <th>2</th>\n",
              "      <td>332.5</td>\n",
              "      <td>142.5</td>\n",
              "      <td>0.0</td>\n",
              "      <td>228.0</td>\n",
              "      <td>0.0</td>\n",
              "      <td>932.0</td>\n",
              "      <td>594.0</td>\n",
              "      <td>270</td>\n",
              "      <td>40.27</td>\n",
              "    </tr>\n",
              "    <tr>\n",
              "      <th>3</th>\n",
              "      <td>332.5</td>\n",
              "      <td>142.5</td>\n",
              "      <td>0.0</td>\n",
              "      <td>228.0</td>\n",
              "      <td>0.0</td>\n",
              "      <td>932.0</td>\n",
              "      <td>594.0</td>\n",
              "      <td>365</td>\n",
              "      <td>41.05</td>\n",
              "    </tr>\n",
              "    <tr>\n",
              "      <th>4</th>\n",
              "      <td>198.6</td>\n",
              "      <td>132.4</td>\n",
              "      <td>0.0</td>\n",
              "      <td>192.0</td>\n",
              "      <td>0.0</td>\n",
              "      <td>978.4</td>\n",
              "      <td>825.5</td>\n",
              "      <td>360</td>\n",
              "      <td>44.30</td>\n",
              "    </tr>\n",
              "  </tbody>\n",
              "</table>\n",
              "</div>"
            ],
            "text/plain": [
              "   Cement  Blast Furnace Slag  Fly Ash  ...  Fine Aggregate  Age  Strength\n",
              "0   540.0                 0.0      0.0  ...           676.0   28     79.99\n",
              "1   540.0                 0.0      0.0  ...           676.0   28     61.89\n",
              "2   332.5               142.5      0.0  ...           594.0  270     40.27\n",
              "3   332.5               142.5      0.0  ...           594.0  365     41.05\n",
              "4   198.6               132.4      0.0  ...           825.5  360     44.30\n",
              "\n",
              "[5 rows x 9 columns]"
            ]
          },
          "metadata": {},
          "execution_count": 54
        }
      ]
    },
    {
      "cell_type": "code",
      "metadata": {
        "id": "etFvavuMCS5w"
      },
      "source": [
        "# split data into input and target\n",
        "col = df.columns.to_list()\n",
        "col.remove('Strength')\n",
        "\n",
        "x = df.loc[:,col]\n",
        "y = df.loc[:,'Strength']\n"
      ],
      "execution_count": 55,
      "outputs": []
    },
    {
      "cell_type": "code",
      "metadata": {
        "colab": {
          "base_uri": "https://localhost:8080/"
        },
        "id": "XBo5olylF2ck",
        "outputId": "823aa2b2-a26f-4ae2-d57a-42ae06359a8e"
      },
      "source": [
        "X_train.shape[1]"
      ],
      "execution_count": 56,
      "outputs": [
        {
          "output_type": "execute_result",
          "data": {
            "text/plain": [
              "8"
            ]
          },
          "metadata": {},
          "execution_count": 56
        }
      ]
    },
    {
      "cell_type": "markdown",
      "metadata": {
        "id": "HC9IchAT-oCb"
      },
      "source": [
        "### **A. Build a baseline model**\n",
        "Use the Keras library to build a neural network with the following:\n",
        "\n",
        "- One hidden layer of 10 nodes, and a ReLU activation function\n",
        "\n",
        "- Use the adam optimizer and the mean squared error  as the loss function.\n",
        "\n",
        "1. Randomly split the data into a training and test sets by holding 30% of the data for testing. You can use the train_test_splithelper function from Scikit-learn.\n",
        "\n",
        "2. Train the model on the training data using 50 epochs."
      ]
    },
    {
      "cell_type": "code",
      "metadata": {
        "colab": {
          "base_uri": "https://localhost:8080/"
        },
        "id": "dwo-YKtH-8bS",
        "outputId": "ab0dfd5a-0fec-49e0-b3a2-8bba1b180db9"
      },
      "source": [
        "mse_A = []\n",
        "\n",
        "for i in range(50):\n",
        "  \n",
        "    \n",
        "  model = Sequential([\n",
        "                      Dense(units = 10, activation='relu', input_shape = (X_train.shape[1],)),\n",
        "                      Dense(1)\n",
        "                      \n",
        "  ])\n",
        "\n",
        "\n",
        "  #Compile model\n",
        "  model.compile(optimizer='adam', loss='mean_squared_error')\n",
        "\n",
        "  #fit the model\n",
        "  model.fit(X_train, y_train, epochs=50, verbose=0)\n",
        "\n",
        "  #predict output on test set\n",
        "  y_pred = model.predict(X_test)\n",
        "  \n",
        "  mse_A.append(mean_squared_error(y_test, y_pred))\n",
        "print('Mean of MSE', np.mean(mse_A))\n",
        "print('standard deviation of MSE', np.std(mse_A))\n"
      ],
      "execution_count": 57,
      "outputs": [
        {
          "output_type": "stream",
          "name": "stdout",
          "text": [
            "Mean of MSE 376.1265178222822\n",
            "standard deviation of MSE 105.9024539090891\n"
          ]
        }
      ]
    },
    {
      "cell_type": "markdown",
      "metadata": {
        "id": "SwBHIpUNSMuz"
      },
      "source": [
        "## **B. Normalize the data**\n",
        "Repeat Part A but use a normalized version of the data. Recall that one way to normalize the data is by subtracting the mean from the individual predictors and dividing by the standard deviation."
      ]
    },
    {
      "cell_type": "code",
      "metadata": {
        "colab": {
          "base_uri": "https://localhost:8080/",
          "height": 206
        },
        "id": "lvCI3797FvMY",
        "outputId": "ea1e7baa-c34a-4ea1-bd0c-b29189393de1"
      },
      "source": [
        "X_norm = (x - x.mean()) / x.std()\n",
        "X_norm.head()"
      ],
      "execution_count": 58,
      "outputs": [
        {
          "output_type": "execute_result",
          "data": {
            "text/html": [
              "<div>\n",
              "<style scoped>\n",
              "    .dataframe tbody tr th:only-of-type {\n",
              "        vertical-align: middle;\n",
              "    }\n",
              "\n",
              "    .dataframe tbody tr th {\n",
              "        vertical-align: top;\n",
              "    }\n",
              "\n",
              "    .dataframe thead th {\n",
              "        text-align: right;\n",
              "    }\n",
              "</style>\n",
              "<table border=\"1\" class=\"dataframe\">\n",
              "  <thead>\n",
              "    <tr style=\"text-align: right;\">\n",
              "      <th></th>\n",
              "      <th>Cement</th>\n",
              "      <th>Blast Furnace Slag</th>\n",
              "      <th>Fly Ash</th>\n",
              "      <th>Water</th>\n",
              "      <th>Superplasticizer</th>\n",
              "      <th>Coarse Aggregate</th>\n",
              "      <th>Fine Aggregate</th>\n",
              "      <th>Age</th>\n",
              "    </tr>\n",
              "  </thead>\n",
              "  <tbody>\n",
              "    <tr>\n",
              "      <th>0</th>\n",
              "      <td>2.476712</td>\n",
              "      <td>-0.856472</td>\n",
              "      <td>-0.846733</td>\n",
              "      <td>-0.916319</td>\n",
              "      <td>-0.620147</td>\n",
              "      <td>0.862735</td>\n",
              "      <td>-1.217079</td>\n",
              "      <td>-0.279597</td>\n",
              "    </tr>\n",
              "    <tr>\n",
              "      <th>1</th>\n",
              "      <td>2.476712</td>\n",
              "      <td>-0.856472</td>\n",
              "      <td>-0.846733</td>\n",
              "      <td>-0.916319</td>\n",
              "      <td>-0.620147</td>\n",
              "      <td>1.055651</td>\n",
              "      <td>-1.217079</td>\n",
              "      <td>-0.279597</td>\n",
              "    </tr>\n",
              "    <tr>\n",
              "      <th>2</th>\n",
              "      <td>0.491187</td>\n",
              "      <td>0.795140</td>\n",
              "      <td>-0.846733</td>\n",
              "      <td>2.174405</td>\n",
              "      <td>-1.038638</td>\n",
              "      <td>-0.526262</td>\n",
              "      <td>-2.239829</td>\n",
              "      <td>3.551340</td>\n",
              "    </tr>\n",
              "    <tr>\n",
              "      <th>3</th>\n",
              "      <td>0.491187</td>\n",
              "      <td>0.795140</td>\n",
              "      <td>-0.846733</td>\n",
              "      <td>2.174405</td>\n",
              "      <td>-1.038638</td>\n",
              "      <td>-0.526262</td>\n",
              "      <td>-2.239829</td>\n",
              "      <td>5.055221</td>\n",
              "    </tr>\n",
              "    <tr>\n",
              "      <th>4</th>\n",
              "      <td>-0.790075</td>\n",
              "      <td>0.678079</td>\n",
              "      <td>-0.846733</td>\n",
              "      <td>0.488555</td>\n",
              "      <td>-1.038638</td>\n",
              "      <td>0.070492</td>\n",
              "      <td>0.647569</td>\n",
              "      <td>4.976069</td>\n",
              "    </tr>\n",
              "  </tbody>\n",
              "</table>\n",
              "</div>"
            ],
            "text/plain": [
              "     Cement  Blast Furnace Slag  ...  Fine Aggregate       Age\n",
              "0  2.476712           -0.856472  ...       -1.217079 -0.279597\n",
              "1  2.476712           -0.856472  ...       -1.217079 -0.279597\n",
              "2  0.491187            0.795140  ...       -2.239829  3.551340\n",
              "3  0.491187            0.795140  ...       -2.239829  5.055221\n",
              "4 -0.790075            0.678079  ...        0.647569  4.976069\n",
              "\n",
              "[5 rows x 8 columns]"
            ]
          },
          "metadata": {},
          "execution_count": 58
        }
      ]
    },
    {
      "cell_type": "code",
      "metadata": {
        "colab": {
          "base_uri": "https://localhost:8080/"
        },
        "id": "WFIN4k-1SfF6",
        "outputId": "315156c7-23fb-4813-bfb6-93520b3d063f"
      },
      "source": [
        "mse_B = []\n",
        "\n",
        "for i in range(50):\n",
        "    \n",
        "    #Split Data to Train and Test Set\n",
        "    X_train, X_test, y_train, y_test = train_test_split(X_norm, y, test_size = 0.3)\n",
        "\n",
        "    #Create model\n",
        "    model = Sequential([\n",
        "                      Dense(units = 10, activation='relu', input_shape = (X_train.shape[1],)),\n",
        "                      Dense(1)\n",
        "                      \n",
        "  ])\n",
        "\n",
        "    #Compile model\n",
        "    model.compile(optimizer='adam', loss='mean_squared_error')\n",
        "\n",
        "    #fit the model\n",
        "    model.fit(X_train, y_train, epochs=50, verbose=0)\n",
        "\n",
        "    #predict output on test set\n",
        "    y_pred = model.predict(X_test)\n",
        "    \n",
        "    mse_B.append(mean_squared_error(y_test, y_pred))\n",
        "print('Mean of MSE', np.mean(mse_B))\n",
        "print('standard deviation of MSE', np.std(mse_B))"
      ],
      "execution_count": 59,
      "outputs": [
        {
          "output_type": "stream",
          "name": "stdout",
          "text": [
            "Mean of MSE 350.37432489077435\n",
            "standard deviation of MSE 93.53550418606075\n"
          ]
        }
      ]
    },
    {
      "cell_type": "markdown",
      "metadata": {
        "id": "eIxSxE_uYH0J"
      },
      "source": [
        "MSE for the model with normalised data is slightely better than the model with unnormalised data"
      ]
    },
    {
      "cell_type": "code",
      "metadata": {
        "id": "6sP_Fex-TT9D"
      },
      "source": [
        ""
      ],
      "execution_count": 59,
      "outputs": []
    },
    {
      "cell_type": "markdown",
      "metadata": {
        "id": "8qnmosx7TU_B"
      },
      "source": [
        "### **C. Increase the number of epochs**\n",
        "\n",
        "Repeat Part B but use 100 epochs this time for training.\n",
        "\n",
        "How does the mean of the mean squared errors compare to that from Step B?"
      ]
    },
    {
      "cell_type": "code",
      "metadata": {
        "colab": {
          "base_uri": "https://localhost:8080/"
        },
        "id": "h-EnTrcZTY5g",
        "outputId": "02627c91-7085-481e-e5ff-9120269cac60"
      },
      "source": [
        "mse_C = []\n",
        "\n",
        "for i in range(50):\n",
        "    \n",
        "    #Split Data to Train and Test Set\n",
        "    X_train, X_test, y_train, y_test = train_test_split(X_norm, y, test_size = 0.3)\n",
        "\n",
        "    #Create model\n",
        "    model = Sequential([\n",
        "                      Dense(units = 10, activation='relu', input_shape = (X_train.shape[1],)),\n",
        "                      Dense(1)\n",
        "                      \n",
        "  ])\n",
        "\n",
        "    #Compile model\n",
        "    model.compile(optimizer='adam', loss='mean_squared_error')\n",
        "\n",
        "    #fit the model\n",
        "    model.fit(X_train, y_train, epochs=100, verbose=0)\n",
        "\n",
        "    #predict output on test set\n",
        "    y_pred = model.predict(X_test)\n",
        "    \n",
        "    mse_C.append(mean_squared_error(y_test, y_pred))\n",
        "print('Mean of MSE', np.mean(mse_C))\n",
        "print('standard deviation of MSE', np.std(mse_C))"
      ],
      "execution_count": 60,
      "outputs": [
        {
          "output_type": "stream",
          "name": "stdout",
          "text": [
            "Mean of MSE 169.9657580703884\n",
            "standard deviation of MSE 28.22380258755561\n"
          ]
        }
      ]
    },
    {
      "cell_type": "markdown",
      "metadata": {
        "id": "DBpZNOkHYcWT"
      },
      "source": [
        "MSE for the model with normalised data and with increased no. of expochs is highly better than the model B with less no. of epochs"
      ]
    },
    {
      "cell_type": "code",
      "metadata": {
        "id": "89QyawnkT0vP"
      },
      "source": [
        ""
      ],
      "execution_count": 60,
      "outputs": []
    },
    {
      "cell_type": "markdown",
      "metadata": {
        "id": "wJAvqMpfT36D"
      },
      "source": [
        "### **D. Increase the number of hidden layers**\n",
        "\n",
        "Repeat part B but use a neural network with the following instead:\n",
        "\n",
        "- Three hidden layers, each of 10 nodes and ReLU activation function."
      ]
    },
    {
      "cell_type": "code",
      "metadata": {
        "colab": {
          "base_uri": "https://localhost:8080/"
        },
        "id": "KXeeBLPcT_bJ",
        "outputId": "f3909449-4529-4786-af91-13fb2c322602"
      },
      "source": [
        "mse_D = []\n",
        "\n",
        "for i in range(50):\n",
        "    \n",
        "    #Split Data to Train and Test Set\n",
        "    X_train, X_test, y_train, y_test = train_test_split(X_norm, y, test_size = 0.3)\n",
        "\n",
        "    #Create model\n",
        "    model = Sequential([\n",
        "                      Dense(units = 10, activation='relu', input_shape = (X_train.shape[1],)),\n",
        "                      Dense(units = 10, activation='relu'),\n",
        "                      Dense(units = 10, activation='relu'),\n",
        "\n",
        "\n",
        "                      Dense(1)\n",
        "                      \n",
        "  ])\n",
        "\n",
        "    #Compile model\n",
        "    model.compile(optimizer='adam', loss='mean_squared_error')\n",
        "\n",
        "    #fit the model\n",
        "    model.fit(X_train, y_train, epochs=100, verbose=0)\n",
        "\n",
        "    #predict output on test set\n",
        "    y_pred = model.predict(X_test)\n",
        "    \n",
        "    mse_D.append(mean_squared_error(y_test, y_pred))\n",
        "print('Mean of MSE', np.mean(mse_D))\n",
        "print('standard deviation of MSE', np.std(mse_D))"
      ],
      "execution_count": 61,
      "outputs": [
        {
          "output_type": "stream",
          "name": "stdout",
          "text": [
            "Mean of MSE 92.051675393187\n",
            "standard deviation of MSE 20.135939236742747\n"
          ]
        }
      ]
    },
    {
      "cell_type": "markdown",
      "metadata": {
        "id": "1Q_enYiyY89K"
      },
      "source": [
        "MSE for the model with normalised data and with increased no. of expochs and number of layers is highly better than the model B with less no. of expochs and one hidden layer"
      ]
    },
    {
      "cell_type": "code",
      "metadata": {
        "id": "K_EmiFCNVIri"
      },
      "source": [
        ""
      ],
      "execution_count": 61,
      "outputs": []
    }
  ]
}